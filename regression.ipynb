{
 "cells": [
  {
   "cell_type": "code",
   "execution_count": 56,
   "metadata": {},
   "outputs": [],
   "source": [
    "import tensorflow as tf\n",
    "from tensorflow import keras\n",
    "from tensorflow.keras import layers\n",
    "import numpy as np\n",
    "import pandas as pd\n",
    "import tensorflow_docs as  tfdocs\n",
    "import tensorflow_docs as tfdocs\n",
    "import tensorflow_docs.plots\n",
    "import tensorflow_docs.modeling\n"
   ]
  },
  {
   "cell_type": "code",
   "execution_count": 53,
   "metadata": {},
   "outputs": [],
   "source": [
    "!pip install -q git+https://github.com/tensorflow/docs\n"
   ]
  },
  {
   "cell_type": "code",
   "execution_count": 160,
   "metadata": {},
   "outputs": [
    {
     "name": "stdout",
     "output_type": "stream",
     "text": [
      "    Year  Total  coal   Oil   Gas  Cement  Flaring  Per Capita\n",
      "0   2005   8024  3170  3000  1473     262       82        1.23\n",
      "1   2006   8290  3350  3022  1511     285       83        1.25\n",
      "2   2007   8538  3511  3032  1561     306       87        1.27\n",
      "3   2008   8732  3646  3041  1606     310       90        1.29\n",
      "4   2009   8606  3603  2992  1571     320       88        1.25\n",
      "5   2010   9048  3822  3067  1691     341       90        1.30\n",
      "6   2011   9354  4062  3069  1731     366       88        1.33\n",
      "7   2012   9496  4106  3124  1765     375       89        1.33\n",
      "8   2013   9541  4075  3163  1787     389       91        1.32\n",
      "9   2014   9614  4077  3204  1801     403       92        1.32\n",
      "10  2015   9618  3996  3259  1842     392       92        1.30\n",
      "11  2016   9656  3941  3309  1879     400       91        1.29\n",
      "12  2017   9774  3953  3350  1938     403       94        1.29\n",
      "13  2018   9982  4007  3391  2043     411       94        1.31\n"
     ]
    },
    {
     "data": {
      "text/html": [
       "<div>\n",
       "<style scoped>\n",
       "    .dataframe tbody tr th:only-of-type {\n",
       "        vertical-align: middle;\n",
       "    }\n",
       "\n",
       "    .dataframe tbody tr th {\n",
       "        vertical-align: top;\n",
       "    }\n",
       "\n",
       "    .dataframe thead th {\n",
       "        text-align: right;\n",
       "    }\n",
       "</style>\n",
       "<table border=\"1\" class=\"dataframe\">\n",
       "  <thead>\n",
       "    <tr style=\"text-align: right;\">\n",
       "      <th></th>\n",
       "      <th>count</th>\n",
       "      <th>mean</th>\n",
       "      <th>std</th>\n",
       "      <th>min</th>\n",
       "      <th>25%</th>\n",
       "      <th>50%</th>\n",
       "      <th>75%</th>\n",
       "      <th>max</th>\n",
       "    </tr>\n",
       "  </thead>\n",
       "  <tbody>\n",
       "    <tr>\n",
       "      <td>Year</td>\n",
       "      <td>14.0</td>\n",
       "      <td>2011.500000</td>\n",
       "      <td>4.183300</td>\n",
       "      <td>2005.00</td>\n",
       "      <td>2008.250</td>\n",
       "      <td>2011.500</td>\n",
       "      <td>2014.7500</td>\n",
       "      <td>2018.00</td>\n",
       "    </tr>\n",
       "    <tr>\n",
       "      <td>Total</td>\n",
       "      <td>14.0</td>\n",
       "      <td>9162.357143</td>\n",
       "      <td>616.885179</td>\n",
       "      <td>8024.00</td>\n",
       "      <td>8637.500</td>\n",
       "      <td>9425.000</td>\n",
       "      <td>9617.0000</td>\n",
       "      <td>9982.00</td>\n",
       "    </tr>\n",
       "    <tr>\n",
       "      <td>coal</td>\n",
       "      <td>14.0</td>\n",
       "      <td>3808.500000</td>\n",
       "      <td>301.803234</td>\n",
       "      <td>3170.00</td>\n",
       "      <td>3613.750</td>\n",
       "      <td>3947.000</td>\n",
       "      <td>4048.2500</td>\n",
       "      <td>4106.00</td>\n",
       "    </tr>\n",
       "    <tr>\n",
       "      <td>Oil</td>\n",
       "      <td>14.0</td>\n",
       "      <td>3144.500000</td>\n",
       "      <td>136.348958</td>\n",
       "      <td>2992.00</td>\n",
       "      <td>3034.250</td>\n",
       "      <td>3096.500</td>\n",
       "      <td>3245.2500</td>\n",
       "      <td>3391.00</td>\n",
       "    </tr>\n",
       "    <tr>\n",
       "      <td>Gas</td>\n",
       "      <td>14.0</td>\n",
       "      <td>1728.500000</td>\n",
       "      <td>168.753689</td>\n",
       "      <td>1473.00</td>\n",
       "      <td>1579.750</td>\n",
       "      <td>1748.000</td>\n",
       "      <td>1831.7500</td>\n",
       "      <td>2043.00</td>\n",
       "    </tr>\n",
       "    <tr>\n",
       "      <td>Cement</td>\n",
       "      <td>14.0</td>\n",
       "      <td>354.500000</td>\n",
       "      <td>49.774491</td>\n",
       "      <td>262.00</td>\n",
       "      <td>312.500</td>\n",
       "      <td>370.500</td>\n",
       "      <td>398.0000</td>\n",
       "      <td>411.00</td>\n",
       "    </tr>\n",
       "    <tr>\n",
       "      <td>Flaring</td>\n",
       "      <td>14.0</td>\n",
       "      <td>89.357143</td>\n",
       "      <td>3.586452</td>\n",
       "      <td>82.00</td>\n",
       "      <td>88.000</td>\n",
       "      <td>90.000</td>\n",
       "      <td>91.7500</td>\n",
       "      <td>94.00</td>\n",
       "    </tr>\n",
       "    <tr>\n",
       "      <td>Per Capita</td>\n",
       "      <td>14.0</td>\n",
       "      <td>1.291429</td>\n",
       "      <td>0.031344</td>\n",
       "      <td>1.23</td>\n",
       "      <td>1.275</td>\n",
       "      <td>1.295</td>\n",
       "      <td>1.3175</td>\n",
       "      <td>1.33</td>\n",
       "    </tr>\n",
       "  </tbody>\n",
       "</table>\n",
       "</div>"
      ],
      "text/plain": [
       "            count         mean         std      min       25%       50%  \\\n",
       "Year         14.0  2011.500000    4.183300  2005.00  2008.250  2011.500   \n",
       "Total        14.0  9162.357143  616.885179  8024.00  8637.500  9425.000   \n",
       "coal         14.0  3808.500000  301.803234  3170.00  3613.750  3947.000   \n",
       "Oil          14.0  3144.500000  136.348958  2992.00  3034.250  3096.500   \n",
       "Gas          14.0  1728.500000  168.753689  1473.00  1579.750  1748.000   \n",
       "Cement       14.0   354.500000   49.774491   262.00   312.500   370.500   \n",
       "Flaring      14.0    89.357143    3.586452    82.00    88.000    90.000   \n",
       "Per Capita   14.0     1.291429    0.031344     1.23     1.275     1.295   \n",
       "\n",
       "                  75%      max  \n",
       "Year        2014.7500  2018.00  \n",
       "Total       9617.0000  9982.00  \n",
       "coal        4048.2500  4106.00  \n",
       "Oil         3245.2500  3391.00  \n",
       "Gas         1831.7500  2043.00  \n",
       "Cement       398.0000   411.00  \n",
       "Flaring       91.7500    94.00  \n",
       "Per Capita     1.3175     1.33  "
      ]
     },
     "execution_count": 160,
     "metadata": {},
     "output_type": "execute_result"
    }
   ],
   "source": [
    "dataframe=pd.read_excel('total_deaths_and_carbon_budget.xlsx')\n",
    "def df_to_dataset(dataframe, shuffle=True, batch_size=5):\n",
    "  dataframe = dataframe.copy()\n",
    "  labels = dataframe.pop('deaths(per 100000)')\n",
    "  ds = tf.data.Dataset.from_tensor_slices((dict(dataframe), labels))\n",
    "  if shuffle:\n",
    "    ds = ds.shuffle(buffer_size=len(dataframe))\n",
    "  ds = ds.batch(batch_size)\n",
    "  return ds\n",
    "labels=dataframe.pop('deaths(per 100000)')\n",
    "print(dataframe)\n",
    "\n",
    "train_stats = dataframe.describe()\n",
    "\n",
    "train_stats = train_stats.transpose()\n",
    "train_stats"
   ]
  },
  {
   "cell_type": "code",
   "execution_count": 161,
   "metadata": {},
   "outputs": [],
   "source": [
    "def norm(x):\n",
    "  return (x - train_stats['mean']) / train_stats['std']\n",
    "normed_train_data = norm(dataframe)\n",
    "\n",
    "\n",
    "def build_model():\n",
    "  model = keras.Sequential([\n",
    "    layers.Dense(20, activation='relu', input_shape=[len(dataframe.keys())]),\n",
    "   # layers.Dense(20, activation='relu'),\n",
    "    layers.Dense(1)\n",
    "  ])\n",
    "\n",
    "  optimizer = tf.keras.optimizers.RMSprop(0.001)\n",
    "\n",
    "  model.compile(loss='mse',\n",
    "                optimizer=optimizer,\n",
    "                metrics=['mae', 'mse'])\n",
    "  return model\n",
    "\n",
    "\n",
    "model=build_model()\n"
   ]
  },
  {
   "cell_type": "code",
   "execution_count": 162,
   "metadata": {},
   "outputs": [],
   "source": [
    "EPOCHS = 10000\n",
    "historye=model.fit(\n",
    "  dataframe,labels,\n",
    "  epochs=EPOCHS, validation_split = 0, verbose=0)"
   ]
  },
  {
   "cell_type": "code",
   "execution_count": 163,
   "metadata": {},
   "outputs": [
    {
     "data": {
      "text/html": [
       "<div>\n",
       "<style scoped>\n",
       "    .dataframe tbody tr th:only-of-type {\n",
       "        vertical-align: middle;\n",
       "    }\n",
       "\n",
       "    .dataframe tbody tr th {\n",
       "        vertical-align: top;\n",
       "    }\n",
       "\n",
       "    .dataframe thead th {\n",
       "        text-align: right;\n",
       "    }\n",
       "</style>\n",
       "<table border=\"1\" class=\"dataframe\">\n",
       "  <thead>\n",
       "    <tr style=\"text-align: right;\">\n",
       "      <th></th>\n",
       "      <th>loss</th>\n",
       "      <th>mae</th>\n",
       "      <th>mse</th>\n",
       "      <th>epoch</th>\n",
       "    </tr>\n",
       "  </thead>\n",
       "  <tbody>\n",
       "    <tr>\n",
       "      <td>9995</td>\n",
       "      <td>57144.886719</td>\n",
       "      <td>175.480225</td>\n",
       "      <td>57144.886719</td>\n",
       "      <td>9995</td>\n",
       "    </tr>\n",
       "    <tr>\n",
       "      <td>9996</td>\n",
       "      <td>57133.492188</td>\n",
       "      <td>177.689133</td>\n",
       "      <td>57133.492188</td>\n",
       "      <td>9996</td>\n",
       "    </tr>\n",
       "    <tr>\n",
       "      <td>9997</td>\n",
       "      <td>57144.312500</td>\n",
       "      <td>175.479172</td>\n",
       "      <td>57144.312500</td>\n",
       "      <td>9997</td>\n",
       "    </tr>\n",
       "    <tr>\n",
       "      <td>9998</td>\n",
       "      <td>57132.867188</td>\n",
       "      <td>177.688995</td>\n",
       "      <td>57132.867188</td>\n",
       "      <td>9998</td>\n",
       "    </tr>\n",
       "    <tr>\n",
       "      <td>9999</td>\n",
       "      <td>57143.750000</td>\n",
       "      <td>175.478760</td>\n",
       "      <td>57143.750000</td>\n",
       "      <td>9999</td>\n",
       "    </tr>\n",
       "  </tbody>\n",
       "</table>\n",
       "</div>"
      ],
      "text/plain": [
       "              loss         mae           mse  epoch\n",
       "9995  57144.886719  175.480225  57144.886719   9995\n",
       "9996  57133.492188  177.689133  57133.492188   9996\n",
       "9997  57144.312500  175.479172  57144.312500   9997\n",
       "9998  57132.867188  177.688995  57132.867188   9998\n",
       "9999  57143.750000  175.478760  57143.750000   9999"
      ]
     },
     "execution_count": 163,
     "metadata": {},
     "output_type": "execute_result"
    }
   ],
   "source": [
    "hist = pd.DataFrame(historye.history)\n",
    "hist.head()\n",
    "hist['epoch'] = historye.epoch\n",
    "hist.tail()"
   ]
  },
  {
   "cell_type": "code",
   "execution_count": 164,
   "metadata": {},
   "outputs": [
    {
     "data": {
      "image/png": "[encoded data removed]",
      "text/plain": [
       "<Figure size 432x288 with 1 Axes>"
      ]
     },
     "metadata": {
      "needs_background": "light"
     },
     "output_type": "display_data"
    }
   ],
   "source": [
    "plt.xlabel('Epoch Number')\n",
    "plt.ylabel(\"Loss Magnitude\")\n",
    "plt.plot(historye.history['loss'])\n",
    "plt.show()\n"
   ]
  },
  {
   "cell_type": "code",
   "execution_count": 165,
   "metadata": {},
   "outputs": [],
   "source": [
    "#print(model.predict([100.0]))"
   ]
  },
  {
   "cell_type": "code",
   "execution_count": 169,
   "metadata": {},
   "outputs": [
    {
     "name": "stdout",
     "output_type": "stream",
     "text": [
      "These are the layer variables: [array([[-0.32007027,  0.24273111, -0.65376884, -0.20946367,  0.7375202 ,\n",
      "         0.43165472,  0.9470593 , -0.19364935,  0.1454854 , -0.7852076 ,\n",
      "         0.4444094 , -0.6463202 ,  0.74987626, -0.3186016 , -0.14829001,\n",
      "        -0.42320058,  0.29737896,  0.10439539, -0.46214533, -0.72582316],\n",
      "       [-0.4578457 ,  0.2614736 ,  0.21787485, -0.03798857,  0.04943275,\n",
      "         0.03257319, -0.27209485, -0.14563933, -0.39478874,  0.3817375 ,\n",
      "        -0.19708043,  0.30989528,  0.22227727, -0.14927888,  0.0700779 ,\n",
      "        -0.14245251,  0.27102593, -0.07315298, -0.31220555,  0.41253644],\n",
      "       [-0.3534871 , -0.05758354,  0.14622833,  0.24495159,  0.63994443,\n",
      "         0.47624063,  0.46688762,  0.21424526,  0.33067197, -0.28931955,\n",
      "         0.5757102 , -0.22454475, -0.20584941, -0.21454293, -0.3692556 ,\n",
      "        -0.18204665,  0.6413893 ,  0.20375954,  0.06916934, -0.4082495 ],\n",
      "       [-0.3833551 ,  0.0333249 ,  0.16324499, -0.09442943,  0.4469098 ,\n",
      "         0.02700479,  0.6413175 , -0.35565713, -0.43486497, -0.03116677,\n",
      "         0.45881632, -0.31099075,  0.71326786, -0.01340002, -0.46235105,\n",
      "        -0.42129368,  0.2105525 , -0.0577361 , -0.37199852, -0.3116712 ],\n",
      "       [-0.41906747, -0.35797146,  0.31565502,  0.09623202, -0.2815916 ,\n",
      "        -0.92621154, -0.33732578,  0.04262716, -0.19092476,  0.28639504,\n",
      "        -0.3587119 ,  0.7782526 , -0.9084994 ,  0.38614506,  0.03284457,\n",
      "        -0.1695567 , -0.80964905, -0.0777093 , -0.3157617 ,  0.22617434],\n",
      "       [ 0.31519276, -0.28212768,  0.13553567, -0.2505629 , -0.18772304,\n",
      "        -0.15933976, -0.191361  ,  0.3687275 , -0.06626672,  0.13061343,\n",
      "        -0.2648594 ,  0.67528176, -0.07701419, -0.00347146,  0.0673281 ,\n",
      "         0.37829912, -0.72199273, -0.01489338,  0.23327112,  0.6293851 ],\n",
      "       [ 0.07862443,  0.45828232,  0.02920102, -0.07953899,  0.8229434 ,\n",
      "         0.4486524 ,  0.68181986,  0.06317323, -0.33038467, -0.7912301 ,\n",
      "         0.11513913, -0.08142123,  0.84151477,  0.4405409 , -0.01655981,\n",
      "         0.12582934,  0.4812633 , -0.41310203,  0.08930844,  0.01797094],\n",
      "       [ 0.39802366,  0.49998719, -0.74919546,  0.3045946 ,  0.14370503,\n",
      "         0.08262764,  0.4037551 , -0.0900149 ,  0.3524893 , -0.32771617,\n",
      "         0.92760116, -0.48802224,  1.0495448 ,  0.3279903 ,  0.14337504,\n",
      "        -0.3458822 ,  0.26582748, -0.18959534, -0.34088415, -1.0447606 ]],\n",
      "      dtype=float32), array([ 0.        ,  0.7036186 , -0.7235372 , -0.08380743,  0.70882285,\n",
      "        0.61118007,  0.7133814 ,  0.        ,  0.        , -0.7163219 ,\n",
      "        0.6525072 , -0.71798104,  0.7217648 ,  0.        ,  0.        ,\n",
      "        0.        ,  0.7078737 , -0.07634172,  0.        , -0.7181014 ],\n",
      "      dtype=float32), array([[ 0.3043365 ],\n",
      "       [ 0.24637218],\n",
      "       [-0.18121849],\n",
      "       [-0.29294133],\n",
      "       [ 0.61751527],\n",
      "       [ 0.519705  ],\n",
      "       [ 0.9827935 ],\n",
      "       [ 0.16577   ],\n",
      "       [-0.06739604],\n",
      "       [-1.0312407 ],\n",
      "       [ 0.31653097],\n",
      "       [-1.08862   ],\n",
      "       [ 0.48862234],\n",
      "       [-0.00437093],\n",
      "       [ 0.09633219],\n",
      "       [-0.09885973],\n",
      "       [ 0.556446  ],\n",
      "       [-0.24613422],\n",
      "       [-0.2788007 ],\n",
      "       [-1.6602396 ]], dtype=float32), array([0.7118594], dtype=float32)]\n"
     ]
    }
   ],
   "source": [
    "print(\"These are the layer variables: {}\".format(model.get_weights()))"
   ]
  },
  {
   "cell_type": "code",
   "execution_count": 168,
   "metadata": {},
   "outputs": [],
   "source": [
    "plotter = tfdocs.plots.HistoryPlotter(smoothing_std=2)"
   ]
  },
  {
   "cell_type": "code",
   "execution_count": null,
   "metadata": {},
   "outputs": [],
   "source": [
    "test_predictions = model.predict(dataframe).flatten()\n",
    "\n",
    "print(test_predictions)\n"
   ]
  },
  {
   "cell_type": "code",
   "execution_count": null,
   "metadata": {},
   "outputs": [],
   "source": [
    "labels"
   ]
  },
  {
   "cell_type": "code",
   "execution_count": null,
   "metadata": {},
   "outputs": [],
   "source": []
  },
  {
   "cell_type": "code",
   "execution_count": null,
   "metadata": {},
   "outputs": [],
   "source": []
  },
  {
   "cell_type": "code",
   "execution_count": null,
   "metadata": {},
   "outputs": [],
   "source": []
  },
  {
   "cell_type": "code",
   "execution_count": 157,
   "metadata": {},
   "outputs": [
    {
     "name": "stdout",
     "output_type": "stream",
     "text": [
      "14/14 - 0s - loss: 55994.5977 - mae: 172.3696 - mse: 55994.5977\n"
     ]
    }
   ],
   "source": [
    "loss, mae, mse = model.evaluate(dataframe,labels, verbose=2)"
   ]
  },
  {
   "cell_type": "code",
   "execution_count": 158,
   "metadata": {},
   "outputs": [
    {
     "name": "stdout",
     "output_type": "stream",
     "text": [
      "[8952.51   8915.812  8807.406  8764.615  8804.302  8473.999  8474.845\n",
      " 8371.943  8202.306  8109.44   7904.867  7661.8413 7424.0234 6993.5396]\n"
     ]
    }
   ],
   "source": [
    "\n"
   ]
  },
  {
   "cell_type": "code",
   "execution_count": 159,
   "metadata": {},
   "outputs": [
    {
     "data": {
      "text/plain": [
       "0     8888.44\n",
       "1     8819.71\n",
       "2     8753.54\n",
       "3     8648.24\n",
       "4     8585.57\n",
       "5     8478.26\n",
       "6     8453.24\n",
       "7     8231.15\n",
       "8     8080.95\n",
       "9     7896.79\n",
       "10    8077.98\n",
       "11    7835.23\n",
       "12    7775.93\n",
       "13    6328.58\n",
       "Name: deaths(per 100000), dtype: float64"
      ]
     },
     "execution_count": 159,
     "metadata": {},
     "output_type": "execute_result"
    }
   ],
   "source": []
  },
  {
   "cell_type": "code",
   "execution_count": null,
   "metadata": {},
   "outputs": [],
   "source": []
  }
 ],
 "metadata": {
  "kernelspec": {
   "display_name": "Python 3",
   "language": "python",
   "name": "python3"
  },
  "language_info": {
   "codemirror_mode": {
    "name": "ipython",
    "version": 3
   },
   "file_extension": ".py",
   "mimetype": "text/x-python",
   "name": "python",
   "nbconvert_exporter": "python",
   "pygments_lexer": "ipython3",
   "version": "3.7.4"
  }
 },
 "nbformat": 4,
 "nbformat_minor": 2
}
